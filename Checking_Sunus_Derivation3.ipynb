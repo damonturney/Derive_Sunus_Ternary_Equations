{
 "cells": [
  {
   "cell_type": "markdown",
   "metadata": {},
   "source": [
    "These are the \"six equations and six unknowns\" from Sunu's PhD dissertation page 13.\n"
   ]
  },
  {
   "cell_type": "code",
   "execution_count": 1,
   "metadata": {},
   "outputs": [],
   "source": [
    "import sympy\n",
    "v1,v2,v3,v0,c1,c2,c3,delmu1,delmu2,delmu3,delmuA,delmuB,nu1A,nu1B,nu2A,nu3B,i,F = sympy.symbols('v1,v2,v3,v0,c1,c2,c3,delmu1,delmu2,delmu3,delmuA,delmuB,nu1A,nu1B,nu2A,nu3B,i,F')\n",
    "z1,z2,z3,K12,K13,K10,K23,K20,K30 = sympy.symbols('z1,z2,z3,K12,K13,K10,K23,K20,K30')\n",
    "eq1 = sympy.Eq(c1*delmu1,K12*(v2-v1) + K13*(v3-v1) + K10*(v0-v1))  #Stefan-Maxwell eqn\n",
    "eq2 = sympy.Eq(c2*delmu2,K12*(v1-v2) + K23*(v3-v2) + K20*(v0-v2))  #Stefan-Maxwell eqn\n",
    "eq3 = sympy.Eq(c3*delmu3,K13*(v1-v3) + K23*(v2-v3) + K30*(v0-v3))  #Stefan-Maxwell eqn\n",
    "eq4 = sympy.Eq(delmuA,nu1A*delmu1+nu2A*delmu2)      # salt A (K2Zn(OH)4=)  <-->  nu1A * 1 (K+) + nu2A * 2 (Zn(OH)4=)\n",
    "eq5 = sympy.Eq(delmuB,nu1B*delmu1+nu3B*delmu3)      # salt B (KOH)  <-->  nu1B * 1 (K+) + nu3B * 3 (OH-)\n",
    "eq6 = sympy.Eq(i,F*z1*c1*v1+F*z2*c2*v2+F*z3*c3*v3)  "
   ]
  },
  {
   "cell_type": "markdown",
   "metadata": {},
   "source": [
    "#### Our first move is to solve eq1 for v1, to get v1 = f(v2,v3,v0)"
   ]
  },
  {
   "cell_type": "code",
   "execution_count": 2,
   "metadata": {},
   "outputs": [
    {
     "name": "stdout",
     "output_type": "stream",
     "text": [
      "eq7 is:\n",
      "Eq(v1, (K10*v0 + K12*v2 + K13*v3 - c1*delmu1)/(K10 + K12 + K13))\n"
     ]
    }
   ],
   "source": [
    "temp=sympy.solve([eq1],[v1]); eq7=sympy.Eq(v1,temp[v1]); print('eq7 is:'); print(eq7);"
   ]
  },
  {
   "cell_type": "markdown",
   "metadata": {},
   "source": [
    "#### Our next move is to substitute v1 = f(v2,v3,v0) into eq2, to get v2 = f(v3,v0)"
   ]
  },
  {
   "cell_type": "code",
   "execution_count": 3,
   "metadata": {},
   "outputs": [
    {
     "name": "stdout",
     "output_type": "stream",
     "text": [
      "eq8 is:\n",
      "Eq(v2, (K10*K12*v0 + K10*K20*v0 + K10*K23*v3 - K10*c2*delmu2 + K12*K13*v3 + K12*K20*v0 + K12*K23*v3 - K12*c1*delmu1 - K12*c2*delmu2 + K13*K20*v0 + K13*K23*v3 - K13*c2*delmu2)/(K10*K12 + K10*K20 + K10*K23 + K12*K13 + K12*K20 + K12*K23 + K13*K20 + K13*K23))\n"
     ]
    }
   ],
   "source": [
    "temp=sympy.solve(eq2.subs({v1:eq7.rhs}),[v2]); eq8=sympy.Eq(v2,temp[0]); print('eq8 is:'); print(eq8)"
   ]
  },
  {
   "cell_type": "markdown",
   "metadata": {},
   "source": [
    "#### Our next move is to substitute v2 = f(v3,v0) into eq7, to get v1 = f(v3,v0)"
   ]
  },
  {
   "cell_type": "code",
   "execution_count": 4,
   "metadata": {},
   "outputs": [
    {
     "name": "stdout",
     "output_type": "stream",
     "text": [
      "eq9 is:\n",
      "Eq(v1, (K10*K12*v0 + K10*K20*v0 + K10*K23*v0 + K12*K13*v3 + K12*K20*v0 + K12*K23*v3 - K12*c1*delmu1 - K12*c2*delmu2 + K13*K20*v3 + K13*K23*v3 - K20*c1*delmu1 - K23*c1*delmu1)/(K10*K12 + K10*K20 + K10*K23 + K12*K13 + K12*K20 + K12*K23 + K13*K20 + K13*K23))\n"
     ]
    }
   ],
   "source": [
    "temp=sympy.solve(eq7.subs({v2:eq8.rhs}),[v1]); eq9=sympy.Eq(v1,temp[0]); print('eq9 is:'); print(eq9)"
   ]
  },
  {
   "cell_type": "markdown",
   "metadata": {},
   "source": [
    "#### Our next move is to substitute v1 = f(v3,v0) and v2 = f(v3,v0) into eq 3, to get v3 = f(v0)"
   ]
  },
  {
   "cell_type": "code",
   "execution_count": 5,
   "metadata": {},
   "outputs": [
    {
     "name": "stdout",
     "output_type": "stream",
     "text": [
      "eq10 is:\n",
      "Eq(v3, (K10*K12*K13*v0 + K10*K12*K23*v0 + K10*K12*K30*v0 - K10*K12*c3*delmu3 + K10*K13*K20*v0 + K10*K13*K23*v0 + K10*K20*K23*v0 + K10*K20*K30*v0 - K10*K20*c3*delmu3 + K10*K23*K30*v0 - K10*K23*c2*delmu2 - K10*K23*c3*delmu3 + K12*K13*K20*v0 + K12*K13*K30*v0 - K12*K13*c1*delmu1 - K12*K13*c2*delmu2 - K12*K13*c3*delmu3 + K12*K20*K23*v0 + K12*K20*K30*v0 - K12*K20*c3*delmu3 + K12*K23*K30*v0 - K12*K23*c1*delmu1 - K12*K23*c2*delmu2 - K12*K23*c3*delmu3 + K13*K20*K23*v0 + K13*K20*K30*v0 - K13*K20*c1*delmu1 - K13*K20*c3*delmu3 + K13*K23*K30*v0 - K13*K23*c1*delmu1 - K13*K23*c2*delmu2 - K13*K23*c3*delmu3)/(K10*K12*K13 + K10*K12*K23 + K10*K12*K30 + K10*K13*K20 + K10*K13*K23 + K10*K20*K23 + K10*K20*K30 + K10*K23*K30 + K12*K13*K20 + K12*K13*K30 + K12*K20*K23 + K12*K20*K30 + K12*K23*K30 + K13*K20*K23 + K13*K20*K30 + K13*K23*K30))\n"
     ]
    }
   ],
   "source": [
    "temp=sympy.solve(eq3.subs({v2:eq8.rhs,v1:eq9.rhs}),[v3]); eq10=sympy.Eq(v3,temp[0]); print('eq10 is:'); print(eq10)"
   ]
  },
  {
   "cell_type": "markdown",
   "metadata": {},
   "source": [
    "#### Then we can substitute v3 = f(v0) into v1 = f(v3,v0), to get v1 = f(v0)"
   ]
  },
  {
   "cell_type": "code",
   "execution_count": 6,
   "metadata": {},
   "outputs": [
    {
     "name": "stdout",
     "output_type": "stream",
     "text": [
      "eq11 is:\n",
      "Eq(v1, (K10*K12*v0 + K10*K20*v0 + K10*K23*v0 + K12*K13*(K10*K12*K13*v0 + K10*K12*K23*v0 + K10*K12*K30*v0 - K10*K12*c3*delmu3 + K10*K13*K20*v0 + K10*K13*K23*v0 + K10*K20*K23*v0 + K10*K20*K30*v0 - K10*K20*c3*delmu3 + K10*K23*K30*v0 - K10*K23*c2*delmu2 - K10*K23*c3*delmu3 + K12*K13*K20*v0 + K12*K13*K30*v0 - K12*K13*c1*delmu1 - K12*K13*c2*delmu2 - K12*K13*c3*delmu3 + K12*K20*K23*v0 + K12*K20*K30*v0 - K12*K20*c3*delmu3 + K12*K23*K30*v0 - K12*K23*c1*delmu1 - K12*K23*c2*delmu2 - K12*K23*c3*delmu3 + K13*K20*K23*v0 + K13*K20*K30*v0 - K13*K20*c1*delmu1 - K13*K20*c3*delmu3 + K13*K23*K30*v0 - K13*K23*c1*delmu1 - K13*K23*c2*delmu2 - K13*K23*c3*delmu3)/(K10*K12*K13 + K10*K12*K23 + K10*K12*K30 + K10*K13*K20 + K10*K13*K23 + K10*K20*K23 + K10*K20*K30 + K10*K23*K30 + K12*K13*K20 + K12*K13*K30 + K12*K20*K23 + K12*K20*K30 + K12*K23*K30 + K13*K20*K23 + K13*K20*K30 + K13*K23*K30) + K12*K20*v0 + K12*K23*(K10*K12*K13*v0 + K10*K12*K23*v0 + K10*K12*K30*v0 - K10*K12*c3*delmu3 + K10*K13*K20*v0 + K10*K13*K23*v0 + K10*K20*K23*v0 + K10*K20*K30*v0 - K10*K20*c3*delmu3 + K10*K23*K30*v0 - K10*K23*c2*delmu2 - K10*K23*c3*delmu3 + K12*K13*K20*v0 + K12*K13*K30*v0 - K12*K13*c1*delmu1 - K12*K13*c2*delmu2 - K12*K13*c3*delmu3 + K12*K20*K23*v0 + K12*K20*K30*v0 - K12*K20*c3*delmu3 + K12*K23*K30*v0 - K12*K23*c1*delmu1 - K12*K23*c2*delmu2 - K12*K23*c3*delmu3 + K13*K20*K23*v0 + K13*K20*K30*v0 - K13*K20*c1*delmu1 - K13*K20*c3*delmu3 + K13*K23*K30*v0 - K13*K23*c1*delmu1 - K13*K23*c2*delmu2 - K13*K23*c3*delmu3)/(K10*K12*K13 + K10*K12*K23 + K10*K12*K30 + K10*K13*K20 + K10*K13*K23 + K10*K20*K23 + K10*K20*K30 + K10*K23*K30 + K12*K13*K20 + K12*K13*K30 + K12*K20*K23 + K12*K20*K30 + K12*K23*K30 + K13*K20*K23 + K13*K20*K30 + K13*K23*K30) - K12*c1*delmu1 - K12*c2*delmu2 + K13*K20*(K10*K12*K13*v0 + K10*K12*K23*v0 + K10*K12*K30*v0 - K10*K12*c3*delmu3 + K10*K13*K20*v0 + K10*K13*K23*v0 + K10*K20*K23*v0 + K10*K20*K30*v0 - K10*K20*c3*delmu3 + K10*K23*K30*v0 - K10*K23*c2*delmu2 - K10*K23*c3*delmu3 + K12*K13*K20*v0 + K12*K13*K30*v0 - K12*K13*c1*delmu1 - K12*K13*c2*delmu2 - K12*K13*c3*delmu3 + K12*K20*K23*v0 + K12*K20*K30*v0 - K12*K20*c3*delmu3 + K12*K23*K30*v0 - K12*K23*c1*delmu1 - K12*K23*c2*delmu2 - K12*K23*c3*delmu3 + K13*K20*K23*v0 + K13*K20*K30*v0 - K13*K20*c1*delmu1 - K13*K20*c3*delmu3 + K13*K23*K30*v0 - K13*K23*c1*delmu1 - K13*K23*c2*delmu2 - K13*K23*c3*delmu3)/(K10*K12*K13 + K10*K12*K23 + K10*K12*K30 + K10*K13*K20 + K10*K13*K23 + K10*K20*K23 + K10*K20*K30 + K10*K23*K30 + K12*K13*K20 + K12*K13*K30 + K12*K20*K23 + K12*K20*K30 + K12*K23*K30 + K13*K20*K23 + K13*K20*K30 + K13*K23*K30) + K13*K23*(K10*K12*K13*v0 + K10*K12*K23*v0 + K10*K12*K30*v0 - K10*K12*c3*delmu3 + K10*K13*K20*v0 + K10*K13*K23*v0 + K10*K20*K23*v0 + K10*K20*K30*v0 - K10*K20*c3*delmu3 + K10*K23*K30*v0 - K10*K23*c2*delmu2 - K10*K23*c3*delmu3 + K12*K13*K20*v0 + K12*K13*K30*v0 - K12*K13*c1*delmu1 - K12*K13*c2*delmu2 - K12*K13*c3*delmu3 + K12*K20*K23*v0 + K12*K20*K30*v0 - K12*K20*c3*delmu3 + K12*K23*K30*v0 - K12*K23*c1*delmu1 - K12*K23*c2*delmu2 - K12*K23*c3*delmu3 + K13*K20*K23*v0 + K13*K20*K30*v0 - K13*K20*c1*delmu1 - K13*K20*c3*delmu3 + K13*K23*K30*v0 - K13*K23*c1*delmu1 - K13*K23*c2*delmu2 - K13*K23*c3*delmu3)/(K10*K12*K13 + K10*K12*K23 + K10*K12*K30 + K10*K13*K20 + K10*K13*K23 + K10*K20*K23 + K10*K20*K30 + K10*K23*K30 + K12*K13*K20 + K12*K13*K30 + K12*K20*K23 + K12*K20*K30 + K12*K23*K30 + K13*K20*K23 + K13*K20*K30 + K13*K23*K30) - K20*c1*delmu1 - K23*c1*delmu1)/(K10*K12 + K10*K20 + K10*K23 + K12*K13 + K12*K20 + K12*K23 + K13*K20 + K13*K23))\n"
     ]
    }
   ],
   "source": [
    "eq11=eq9.subs({v3:eq10.rhs}); print('eq11 is:'); print(eq11)"
   ]
  },
  {
   "cell_type": "markdown",
   "metadata": {},
   "source": [
    "#### Then we can substitute v3 = f(v0) into v2 = f(v3,v0), to get v2 = f(v0)"
   ]
  },
  {
   "cell_type": "code",
   "execution_count": 7,
   "metadata": {},
   "outputs": [
    {
     "name": "stdout",
     "output_type": "stream",
     "text": [
      "eq12 is:\n",
      "Eq(v2, (K10*K12*v0 + K10*K20*v0 + K10*K23*(K10*K12*K13*v0 + K10*K12*K23*v0 + K10*K12*K30*v0 - K10*K12*c3*delmu3 + K10*K13*K20*v0 + K10*K13*K23*v0 + K10*K20*K23*v0 + K10*K20*K30*v0 - K10*K20*c3*delmu3 + K10*K23*K30*v0 - K10*K23*c2*delmu2 - K10*K23*c3*delmu3 + K12*K13*K20*v0 + K12*K13*K30*v0 - K12*K13*c1*delmu1 - K12*K13*c2*delmu2 - K12*K13*c3*delmu3 + K12*K20*K23*v0 + K12*K20*K30*v0 - K12*K20*c3*delmu3 + K12*K23*K30*v0 - K12*K23*c1*delmu1 - K12*K23*c2*delmu2 - K12*K23*c3*delmu3 + K13*K20*K23*v0 + K13*K20*K30*v0 - K13*K20*c1*delmu1 - K13*K20*c3*delmu3 + K13*K23*K30*v0 - K13*K23*c1*delmu1 - K13*K23*c2*delmu2 - K13*K23*c3*delmu3)/(K10*K12*K13 + K10*K12*K23 + K10*K12*K30 + K10*K13*K20 + K10*K13*K23 + K10*K20*K23 + K10*K20*K30 + K10*K23*K30 + K12*K13*K20 + K12*K13*K30 + K12*K20*K23 + K12*K20*K30 + K12*K23*K30 + K13*K20*K23 + K13*K20*K30 + K13*K23*K30) - K10*c2*delmu2 + K12*K13*(K10*K12*K13*v0 + K10*K12*K23*v0 + K10*K12*K30*v0 - K10*K12*c3*delmu3 + K10*K13*K20*v0 + K10*K13*K23*v0 + K10*K20*K23*v0 + K10*K20*K30*v0 - K10*K20*c3*delmu3 + K10*K23*K30*v0 - K10*K23*c2*delmu2 - K10*K23*c3*delmu3 + K12*K13*K20*v0 + K12*K13*K30*v0 - K12*K13*c1*delmu1 - K12*K13*c2*delmu2 - K12*K13*c3*delmu3 + K12*K20*K23*v0 + K12*K20*K30*v0 - K12*K20*c3*delmu3 + K12*K23*K30*v0 - K12*K23*c1*delmu1 - K12*K23*c2*delmu2 - K12*K23*c3*delmu3 + K13*K20*K23*v0 + K13*K20*K30*v0 - K13*K20*c1*delmu1 - K13*K20*c3*delmu3 + K13*K23*K30*v0 - K13*K23*c1*delmu1 - K13*K23*c2*delmu2 - K13*K23*c3*delmu3)/(K10*K12*K13 + K10*K12*K23 + K10*K12*K30 + K10*K13*K20 + K10*K13*K23 + K10*K20*K23 + K10*K20*K30 + K10*K23*K30 + K12*K13*K20 + K12*K13*K30 + K12*K20*K23 + K12*K20*K30 + K12*K23*K30 + K13*K20*K23 + K13*K20*K30 + K13*K23*K30) + K12*K20*v0 + K12*K23*(K10*K12*K13*v0 + K10*K12*K23*v0 + K10*K12*K30*v0 - K10*K12*c3*delmu3 + K10*K13*K20*v0 + K10*K13*K23*v0 + K10*K20*K23*v0 + K10*K20*K30*v0 - K10*K20*c3*delmu3 + K10*K23*K30*v0 - K10*K23*c2*delmu2 - K10*K23*c3*delmu3 + K12*K13*K20*v0 + K12*K13*K30*v0 - K12*K13*c1*delmu1 - K12*K13*c2*delmu2 - K12*K13*c3*delmu3 + K12*K20*K23*v0 + K12*K20*K30*v0 - K12*K20*c3*delmu3 + K12*K23*K30*v0 - K12*K23*c1*delmu1 - K12*K23*c2*delmu2 - K12*K23*c3*delmu3 + K13*K20*K23*v0 + K13*K20*K30*v0 - K13*K20*c1*delmu1 - K13*K20*c3*delmu3 + K13*K23*K30*v0 - K13*K23*c1*delmu1 - K13*K23*c2*delmu2 - K13*K23*c3*delmu3)/(K10*K12*K13 + K10*K12*K23 + K10*K12*K30 + K10*K13*K20 + K10*K13*K23 + K10*K20*K23 + K10*K20*K30 + K10*K23*K30 + K12*K13*K20 + K12*K13*K30 + K12*K20*K23 + K12*K20*K30 + K12*K23*K30 + K13*K20*K23 + K13*K20*K30 + K13*K23*K30) - K12*c1*delmu1 - K12*c2*delmu2 + K13*K20*v0 + K13*K23*(K10*K12*K13*v0 + K10*K12*K23*v0 + K10*K12*K30*v0 - K10*K12*c3*delmu3 + K10*K13*K20*v0 + K10*K13*K23*v0 + K10*K20*K23*v0 + K10*K20*K30*v0 - K10*K20*c3*delmu3 + K10*K23*K30*v0 - K10*K23*c2*delmu2 - K10*K23*c3*delmu3 + K12*K13*K20*v0 + K12*K13*K30*v0 - K12*K13*c1*delmu1 - K12*K13*c2*delmu2 - K12*K13*c3*delmu3 + K12*K20*K23*v0 + K12*K20*K30*v0 - K12*K20*c3*delmu3 + K12*K23*K30*v0 - K12*K23*c1*delmu1 - K12*K23*c2*delmu2 - K12*K23*c3*delmu3 + K13*K20*K23*v0 + K13*K20*K30*v0 - K13*K20*c1*delmu1 - K13*K20*c3*delmu3 + K13*K23*K30*v0 - K13*K23*c1*delmu1 - K13*K23*c2*delmu2 - K13*K23*c3*delmu3)/(K10*K12*K13 + K10*K12*K23 + K10*K12*K30 + K10*K13*K20 + K10*K13*K23 + K10*K20*K23 + K10*K20*K30 + K10*K23*K30 + K12*K13*K20 + K12*K13*K30 + K12*K20*K23 + K12*K20*K30 + K12*K23*K30 + K13*K20*K23 + K13*K20*K30 + K13*K23*K30) - K13*c2*delmu2)/(K10*K12 + K10*K20 + K10*K23 + K12*K13 + K12*K20 + K12*K23 + K13*K20 + K13*K23))\n"
     ]
    }
   ],
   "source": [
    "eq12=eq8.subs({v3:eq10.rhs}); print('eq12 is:'); print(eq12)"
   ]
  },
  {
   "cell_type": "markdown",
   "metadata": {},
   "source": [
    "#### Define the stupid symbols used by Sunu"
   ]
  },
  {
   "cell_type": "code",
   "execution_count": 8,
   "metadata": {},
   "outputs": [],
   "source": [
    "#K12,K13,K10,K23,K20,K30 \n",
    "LAA,LAB,LBB,t01,t02,t03,D,E,kappa,cA,cB,C1,C2,C3,M0,M1,M2,M3,i_s,N1,N2,N3,N1sunu,N2sunu,N3sunu = sympy.symbols('LAA,LAB,LBB,t01,t02,t03,D,E,kappa,cA,cB,C1,C2,C3,M0,M1,M2,M3,i_s,N1,N2,N3,N1sunu,N2sunu,N3sunu')\n",
    "eq13=sympy.Eq(LAA,   (cA)**2/D*( C1**2*M3 + 2*C1*C3*K13 + C3**2*M1))\n",
    "eq14=sympy.Eq(LAB,   cA*cB/D*( C1**2*(K13+K23)+C1*C3*(2*K13+K10)+C3**2*M1))\n",
    "eq15=sympy.Eq(LBB,   cB**2/D*( C1**2*(K13+K23+K10+K20)+2*C1*C3*(K13+K10)+C3**2*M1 ))\n",
    "eq16=sympy.Eq(t01,   C1/D* (C1*(K20*M3+K23*K30) + C3*(K13*K20 - K12*K30) ))\n",
    "eq17=sympy.Eq(t02,   z2*nu2A*cA/D *( C2*(M3*K10+K30*K13) + C3*(K23*K10 - K12*K30)))\n",
    "eq18=sympy.Eq(t03,   z3*nu3B*cB/D *( C3*(M1*K20+K10*K12) + C1*(K13*K20 - K23*K10)))\n",
    "eq19=sympy.Eq(kappa, F**2*D/E)\n",
    "eq20=sympy.Eq(D,     C1**2*(M3*M0-K30**2)+2*C1*C3*(M0*K13+K10*K30)+C2**2*(M1*M0-K10**2))  #I CHANGED C2**3 to C2**2 BECAUSE C2**3 MUST BE A MISTAKE!\n",
    "eq21=sympy.Eq(E,     M0*(K12*K13+K12*K23+K13*K23) + K10*K20*(K13+K23) + K23*K30*(K12+K13)+ K10*K30*(K12+K23) + K10*K20*K30)\n",
    "eq22=sympy.Eq(M0,    K10+K20+K30)\n",
    "eq23=sympy.Eq(M1,    K10+K12+K13)\n",
    "eq24=sympy.Eq(M2,    K20+K12+K23)\n",
    "eq25=sympy.Eq(M3,    K30+K13+K23)\n",
    "eq26=sympy.Eq(C1,    z1*c1)\n",
    "eq27=sympy.Eq(C2,    z2*c2)\n",
    "eq28=sympy.Eq(C3,    z3*c3)\n",
    "eq29=sympy.Eq(N1sunu,-(nu1A*LAA+nu1B*LAB)*delmuA - (nu1A*LAB+nu1B*LBB)*delmuB + t01/z1/F*i + c1*v0)\n",
    "eq30=sympy.Eq(N2sunu,-nu2A*LAA*delmuA - nu2A*LAB*delmuB+t02/z2/F*i_s +c2*v0)\n",
    "eq31=sympy.Eq(N2sunu,-nu3B*LAB*delmuA - nu3B*LBB*delmuB+ t03/z3/F*i_s + c3*v0)\n",
    "eq32=sympy.Eq(N1,    F*c1*v1)\n",
    "eq33=sympy.Eq(N2,    F*c2*v2)\n",
    "eq34=sympy.Eq(N3,    F*c3*v3)  \n",
    "\n",
    "\n"
   ]
  },
  {
   "cell_type": "markdown",
   "metadata": {},
   "source": [
    "#### temp"
   ]
  },
  {
   "cell_type": "code",
   "execution_count": 12,
   "metadata": {},
   "outputs": [
    {
     "name": "stdout",
     "output_type": "stream",
     "text": [
      "N1sunu is:\n",
      "Eq(N1sunu, c1*(c1*z1**2*(c1*delmuA*(c1*nu1A*(K10 + K12 + 4*K13 + K23 + K30) + c3*nu1B*(2*K10 + K12 + 4*K13 + K23)) + c3*delmuB*(c1*nu1A*(2*K10 + K12 + 4*K13 + K23) + c3*nu1B*(4*K10 + K12 + 4*K13 + K20 + K23))) + c1*z1*(c1*v1*z1 + c2*v2*z2 + c3*v3*z3)*(K12*K30 - K13*K20 - K20*(K13 + K23 + K30) - K23*K30) - v0*(c1**2*z1**2*(-K30**2 + (K10 + K20 + K30)*(K13 + K23 + K30)) + 2*c1**2*z1**2*(K10*K30 + K13*(K10 + K20 + K30)) + c2**2*z2**2*(-K10**2 + (K10 + K12 + K13)*(K10 + K20 + K30))))/(c1**2*z1**2*(K30**2 - (K10 + K20 + K30)*(K13 + K23 + K30)) - 2*c1**2*z1**2*(K10*K30 + K13*(K10 + K20 + K30)) + c2**2*z2**2*(K10**2 - (K10 + K12 + K13)*(K10 + K20 + K30))))\n"
     ]
    }
   ],
   "source": [
    "eq35=sympy.simplify(eq29.subs({LAA:eq13.rhs,LAB:eq14.rhs,LBB:eq15.rhs,t01:eq16.rhs,i:eq6.rhs}))\n",
    "eq36=eq35.subs({D:eq20.rhs})\n",
    "eq37=eq36.subs({C1:eq26.rhs,C2:eq27.rhs,C3:eq26.rhs,M0:eq22.rhs,M1:eq23.rhs,M2:eq24.rhs,M3:eq25.rhs,cA:c1,cB:c3}); print('N1sunu is:'); print(sympy.simplify(eq37))"
   ]
  },
  {
   "cell_type": "code",
   "execution_count": 13,
   "metadata": {},
   "outputs": [
    {
     "data": {
      "text/plain": [
       "1019.23"
      ]
     },
     "execution_count": 13,
     "metadata": {},
     "output_type": "execute_result"
    }
   ],
   "source": [
    "439.60+350+148.21+21.89+15.36+44.17\n"
   ]
  },
  {
   "cell_type": "code",
   "execution_count": null,
   "metadata": {},
   "outputs": [],
   "source": []
  }
 ],
 "metadata": {
  "kernelspec": {
   "display_name": "Python 3",
   "language": "python",
   "name": "python3"
  },
  "language_info": {
   "codemirror_mode": {
    "name": "ipython",
    "version": 3
   },
   "file_extension": ".py",
   "mimetype": "text/x-python",
   "name": "python",
   "nbconvert_exporter": "python",
   "pygments_lexer": "ipython3",
   "version": "3.7.0"
  }
 },
 "nbformat": 4,
 "nbformat_minor": 2
}
